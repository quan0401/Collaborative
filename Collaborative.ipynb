{
 "cells": [
  {
   "cell_type": "markdown",
   "metadata": {},
   "source": [
    "## Collaborative Filtering Recommender Systems"
   ]
  },
  {
   "cell_type": "markdown",
   "metadata": {},
   "source": [
    "### Packages\n"
   ]
  },
  {
   "cell_type": "code",
   "execution_count": 1,
   "metadata": {},
   "outputs": [],
   "source": [
    "import numpy as np\n",
    "import tensorflow as tf\n",
    "import pandas as pd\n",
    "from tensorflow import keras"
   ]
  },
  {
   "cell_type": "markdown",
   "metadata": {},
   "source": [
    "## Movie ratings dataset"
   ]
  },
  {
   "cell_type": "markdown",
   "metadata": {},
   "source": [
    "The dataset has $n_u= 443$ users, and $n_m= 4778$ movies (movies from the years since 2000).\n",
    "\n",
    "Below, we will load the movie dataset into variables $Y$ and $R$.\n",
    "\n",
    "The matrix $Y$ ($n_m X n_u$) stores ratings $y^{(i, j)}$. The matrix $R$ ($n_m X n_u$) stores binary-valued indicator matrix, where $R(i, j) = 1$ \n",
    "if user $j$ has rated movie $i$, and $R(i, j) = 0$ otherwise.\n",
    "\n",
    "Throughout this notebook we will work with $X$, $W$ and $b$. The i-th row of $X$ corresponds vector feature $x^{(i)}$ of i-th movie, and j-th row of $W$ corresponds to parameter vectors $w^{(j)}$ of j-th user\n",
    "\n",
    "\n",
    "We will start by loading the data set into Y and R with movie dataset.\n",
    "\n",
    "We'll also load $X, W$ and $b$ with pre-computed values. These values will be learnt later in the notebook, but we will use pre-computed values to devleop the model\n"
   ]
  },
  {
   "cell_type": "code",
   "execution_count": 2,
   "metadata": {},
   "outputs": [
    {
     "name": "stdout",
     "output_type": "stream",
     "text": [
      "Y:  (4778, 443) R:  (4778, 443)\n",
      "X:  (4778, 10)\n",
      "W:  (443, 10)\n",
      "b:  (443, 1)\n",
      "num_movies:  4778\n",
      "num_features:  10\n",
      "num_users:  443\n"
     ]
    }
   ],
   "source": [
    "def load_precomputed_params(): \n",
    "    # Read the file as binary mode\n",
    "    file = open('./data/small_movies_X.csv', 'rb')\n",
    "    X = np.loadtxt(file, delimiter=',')\n",
    "    \n",
    "    file = open('./data/small_movies_W.csv', mode='rb')\n",
    "    W = np.loadtxt(file, delimiter=',')\n",
    "    \n",
    "    file = open('./data/small_movies_b.csv')\n",
    "    b = np.loadtxt(file, delimiter=',')\n",
    "    b = b.reshape(-1, 1)\n",
    "    \n",
    "    num_movies, num_features = X.shape\n",
    "    num_users, _ = W.shape\n",
    "    \n",
    "    return X, W, b, num_movies, num_features, num_users\n",
    "\n",
    "def load_ratings(): \n",
    "    file = open('./data/small_movies_R.csv')\n",
    "    R = np.loadtxt(file, delimiter=',')\n",
    "    \n",
    "    file = open('./data/small_movies_Y.csv')\n",
    "    Y = np.loadtxt(file, delimiter=',')\n",
    "    return Y, R\n",
    "    \n",
    "    \n",
    "X, W, b, num_movies, num_features, num_users = load_precomputed_params()\n",
    "Y, R = load_ratings()\n",
    "\n",
    "print('Y: ', Y.shape, 'R: ', R.shape)\n",
    "\n",
    "print(\"X: \", X.shape)\n",
    "print(\"W: \", W.shape)\n",
    "print(\"b: \", b.shape)\n",
    "\n",
    "print(\"num_movies: \", num_movies)\n",
    "print(\"num_features: \", num_features)\n",
    "print(\"num_users: \", num_users)\n"
   ]
  },
  {
   "cell_type": "code",
   "execution_count": 3,
   "metadata": {},
   "outputs": [
    {
     "name": "stdout",
     "output_type": "stream",
     "text": [
      "Average rating for movie 1: 3.400/5\n"
     ]
    }
   ],
   "source": [
    "# From the matrix, we can compute statistics like average rating.\n",
    "tsmean = np.mean(Y[0, R[0, :].astype(bool)])\n",
    "\n",
    "print(f\"Average rating for movie 1: {tsmean:0.3f}/5\")"
   ]
  },
  {
   "cell_type": "markdown",
   "metadata": {},
   "source": [
    "## Collaborative filtering learning algorithm\n",
    "### Collaborative filtering cost function\n",
    "\n",
    "The collaborative filtering cost function is given by\n",
    "$$J({\\mathbf{x}^{(0)},...,\\mathbf{x}^{(n_m-1)},\\mathbf{w}^{(0)},b^{(0)},...,\\mathbf{w}^{(n_u-1)},b^{(n_u-1)}})= \\left[ \\frac{1}{2}\\sum_{(i,j):r(i,j)=1}(\\mathbf{w}^{(j)} \\cdot \\mathbf{x}^{(i)} + b^{(j)} - y^{(i,j)})^2 \\right]\n",
    "+ \\underbrace{\\left[\n",
    "\\frac{\\lambda}{2}\n",
    "\\sum_{j=0}^{n_u-1}\\sum_{k=0}^{n-1}(\\mathbf{w}^{(j)}_k)^2\n",
    "+ \\frac{\\lambda}{2}\\sum_{i=0}^{n_m-1}\\sum_{k=0}^{n-1}(\\mathbf{x}_k^{(i)})^2\n",
    "\\right]}_{regularization}\n",
    "\\tag{1}$$\n",
    "The first summation in (1) is \"for all $i$, $j$ where $r(i,j)$ equals $1$\" and could be written:\n",
    "\n",
    "$$\n",
    "= \\left[ \\frac{1}{2}\\sum_{j=0}^{n_u-1} \\sum_{i=0}^{n_m-1}r(i,j)*(\\mathbf{w}^{(j)} \\cdot \\mathbf{x}^{(i)} + b^{(j)} - y^{(i,j)})^2 \\right]\n",
    "+\\text{regularization}\n",
    "$$"
   ]
  },
  {
   "cell_type": "code",
   "execution_count": 4,
   "metadata": {},
   "outputs": [],
   "source": [
    "def cofi_cost_func_v(X, W, b, Y, R, lambda_): \n",
    "    '''\n",
    "    Args: \n",
    "        X (ndarray (num_movies, num_features)): matrix of item features\n",
    "        W (ndarray (num_users, num_features)) : matrix of user parameters\n",
    "        b (ndarray (1, num_users))            : matrix of user parameters\n",
    "        Y (ndarray (num_movies, num_users))   : matrix of user ratings of movies\n",
    "        R (ndarray (num_movies, num_users))   : matrix, where R(i, j) = 1 if the user j-th has rated the i-th movie\n",
    "        lambda_ (float): regulariztion parameter\n",
    "    Returns: \n",
    "        J (float): cost\n",
    "    '''\n",
    "    j = (tf.linalg.matmul(X, tf.transpose(W)) + b - Y) * R\n",
    "    J = 0.5 * tf.reduce_sum(j ** 2) + lambda_/2 * (tf.reduce_sum(W ** 2) + tf.reduce_sum(X ** 2))\n",
    "    return J"
   ]
  },
  {
   "cell_type": "code",
   "execution_count": 5,
   "metadata": {},
   "outputs": [
    {
     "name": "stdout",
     "output_type": "stream",
     "text": [
      "Cost: 13.67\n"
     ]
    }
   ],
   "source": [
    "# Reduce the dataset size to test the function run faster\n",
    "num_users_r = 4\n",
    "num_movies_r = 5\n",
    "num_features_r = 3\n",
    "\n",
    "X_r = X[:num_movies_r, :num_features_r]\n",
    "W_r = W[:num_users_r, :num_features_r]\n",
    "b_r = b[:num_users_r, 0].reshape(1, -1)\n",
    "Y_r = Y[:num_movies_r, :num_users_r]\n",
    "R_r = R[:num_movies_r, :num_users_r]\n",
    "\n",
    "# Evaluate cost function\n",
    "J = cofi_cost_func_v(X_r, W_r, b_r, Y_r, R_r, 0);\n",
    "print(f\"Cost: {J:0.2f}\")\n"
   ]
  },
  {
   "cell_type": "code",
   "execution_count": 6,
   "metadata": {},
   "outputs": [
    {
     "name": "stdout",
     "output_type": "stream",
     "text": [
      "Cost (with regularization): 28.09\n"
     ]
    }
   ],
   "source": [
    "# Evaluate cost function with regularization \n",
    "J = cofi_cost_func_v(X_r, W_r, b_r, Y_r, R_r, 1.5);\n",
    "print(f\"Cost (with regularization): {J:0.2f}\")"
   ]
  },
  {
   "cell_type": "markdown",
   "metadata": {},
   "source": [
    "## Get movie name list"
   ]
  },
  {
   "cell_type": "code",
   "execution_count": 7,
   "metadata": {},
   "outputs": [],
   "source": [
    "def load_Movie_List_pd(): \n",
    "    df = pd.read_csv('./data/small_movie_list.csv', delimiter=',')\n",
    "    movie_list = df['title'].to_list()\n",
    "    return movie_list,df"
   ]
  },
  {
   "cell_type": "markdown",
   "metadata": {},
   "source": [
    "## Try adding a user rating"
   ]
  },
  {
   "cell_type": "code",
   "execution_count": 8,
   "metadata": {},
   "outputs": [
    {
     "name": "stdout",
     "output_type": "stream",
     "text": [
      "my_rated index:  [246, 366, 382, 622, 793, 929, 988, 1150, 2609, 2700, 2716, 2925, 2937]\n",
      "Y and R before adding new user rating (4778, 443) (4778, 443)\n",
      "Y and R after new user rating (4778, 444) (4778, 444)\n"
     ]
    }
   ],
   "source": [
    "movieList, moveList_df = load_Movie_List_pd()\n",
    "my_ratings = np.zeros(num_movies)\n",
    "# Randomly pick some movie and give rating\n",
    "my_ratings[2700] = 5 \n",
    "my_ratings[2609] = 2\n",
    "my_ratings[929]  = 5   \n",
    "my_ratings[246]  = 5   \n",
    "my_ratings[2716] = 3   \n",
    "my_ratings[1150] = 5   \n",
    "my_ratings[382]  = 2   \n",
    "my_ratings[366]  = 5   \n",
    "my_ratings[622]  = 5   \n",
    "my_ratings[988]  = 3   \n",
    "my_ratings[2925] = 1   \n",
    "my_ratings[2937] = 1   \n",
    "my_ratings[793]  = 5 \n",
    "my_rated = [i for i in range(len(my_ratings)) if my_ratings[i] > 0]\n",
    "print('my_rated index: ', my_rated)\n",
    "\n",
    "print('Y and R before adding new user rating', Y.shape, R.shape)\n",
    "\n",
    "# Add my rating to the data\n",
    "Y = np.c_[ my_ratings, Y]\n",
    "R = np.c_[(my_ratings != 0).astype(int), R]\n",
    "\n",
    "print('Y and R after new user rating', Y.shape, R.shape)"
   ]
  },
  {
   "cell_type": "code",
   "execution_count": 9,
   "metadata": {},
   "outputs": [
    {
     "data": {
      "text/html": [
       "<div>\n",
       "<style scoped>\n",
       "    .dataframe tbody tr th:only-of-type {\n",
       "        vertical-align: middle;\n",
       "    }\n",
       "\n",
       "    .dataframe tbody tr th {\n",
       "        vertical-align: top;\n",
       "    }\n",
       "\n",
       "    .dataframe thead th {\n",
       "        text-align: right;\n",
       "    }\n",
       "</style>\n",
       "<table border=\"1\" class=\"dataframe\">\n",
       "  <thead>\n",
       "    <tr style=\"text-align: right;\">\n",
       "      <th></th>\n",
       "      <th>Unnamed: 0</th>\n",
       "      <th>mean rating</th>\n",
       "      <th>number of ratings</th>\n",
       "      <th>title</th>\n",
       "    </tr>\n",
       "  </thead>\n",
       "  <tbody>\n",
       "    <tr>\n",
       "      <th>0</th>\n",
       "      <td>0</td>\n",
       "      <td>3.400000</td>\n",
       "      <td>5</td>\n",
       "      <td>Yards, The (2000)</td>\n",
       "    </tr>\n",
       "    <tr>\n",
       "      <th>1</th>\n",
       "      <td>1</td>\n",
       "      <td>3.250000</td>\n",
       "      <td>6</td>\n",
       "      <td>Next Friday (2000)</td>\n",
       "    </tr>\n",
       "    <tr>\n",
       "      <th>2</th>\n",
       "      <td>2</td>\n",
       "      <td>2.000000</td>\n",
       "      <td>4</td>\n",
       "      <td>Supernova (2000)</td>\n",
       "    </tr>\n",
       "    <tr>\n",
       "      <th>3</th>\n",
       "      <td>3</td>\n",
       "      <td>2.000000</td>\n",
       "      <td>4</td>\n",
       "      <td>Down to You (2000)</td>\n",
       "    </tr>\n",
       "    <tr>\n",
       "      <th>4</th>\n",
       "      <td>4</td>\n",
       "      <td>2.672414</td>\n",
       "      <td>29</td>\n",
       "      <td>Scream 3 (2000)</td>\n",
       "    </tr>\n",
       "    <tr>\n",
       "      <th>...</th>\n",
       "      <td>...</td>\n",
       "      <td>...</td>\n",
       "      <td>...</td>\n",
       "      <td>...</td>\n",
       "    </tr>\n",
       "    <tr>\n",
       "      <th>4773</th>\n",
       "      <td>4773</td>\n",
       "      <td>3.500000</td>\n",
       "      <td>1</td>\n",
       "      <td>Jon Stewart Has Left the Building (2015)</td>\n",
       "    </tr>\n",
       "    <tr>\n",
       "      <th>4774</th>\n",
       "      <td>4774</td>\n",
       "      <td>4.000000</td>\n",
       "      <td>1</td>\n",
       "      <td>Black Butler: Book of the Atlantic (2017)</td>\n",
       "    </tr>\n",
       "    <tr>\n",
       "      <th>4775</th>\n",
       "      <td>4775</td>\n",
       "      <td>3.500000</td>\n",
       "      <td>1</td>\n",
       "      <td>No Game No Life: Zero (2017)</td>\n",
       "    </tr>\n",
       "    <tr>\n",
       "      <th>4776</th>\n",
       "      <td>4776</td>\n",
       "      <td>3.500000</td>\n",
       "      <td>1</td>\n",
       "      <td>Flint (2017)</td>\n",
       "    </tr>\n",
       "    <tr>\n",
       "      <th>4777</th>\n",
       "      <td>4777</td>\n",
       "      <td>3.500000</td>\n",
       "      <td>1</td>\n",
       "      <td>Bungo Stray Dogs: Dead Apple (2018)</td>\n",
       "    </tr>\n",
       "  </tbody>\n",
       "</table>\n",
       "<p>4778 rows × 4 columns</p>\n",
       "</div>"
      ],
      "text/plain": [
       "      Unnamed: 0  mean rating  number of ratings  \\\n",
       "0              0     3.400000                  5   \n",
       "1              1     3.250000                  6   \n",
       "2              2     2.000000                  4   \n",
       "3              3     2.000000                  4   \n",
       "4              4     2.672414                 29   \n",
       "...          ...          ...                ...   \n",
       "4773        4773     3.500000                  1   \n",
       "4774        4774     4.000000                  1   \n",
       "4775        4775     3.500000                  1   \n",
       "4776        4776     3.500000                  1   \n",
       "4777        4777     3.500000                  1   \n",
       "\n",
       "                                          title  \n",
       "0                             Yards, The (2000)  \n",
       "1                            Next Friday (2000)  \n",
       "2                              Supernova (2000)  \n",
       "3                            Down to You (2000)  \n",
       "4                               Scream 3 (2000)  \n",
       "...                                         ...  \n",
       "4773   Jon Stewart Has Left the Building (2015)  \n",
       "4774  Black Butler: Book of the Atlantic (2017)  \n",
       "4775               No Game No Life: Zero (2017)  \n",
       "4776                               Flint (2017)  \n",
       "4777        Bungo Stray Dogs: Dead Apple (2018)  \n",
       "\n",
       "[4778 rows x 4 columns]"
      ]
     },
     "execution_count": 9,
     "metadata": {},
     "output_type": "execute_result"
    }
   ],
   "source": [
    "moveList_df"
   ]
  },
  {
   "cell_type": "code",
   "execution_count": 10,
   "metadata": {},
   "outputs": [
    {
     "data": {
      "text/plain": [
       "array([[0, 2, 0, 4],\n",
       "       [5, 0, 7, 0]])"
      ]
     },
     "execution_count": 10,
     "metadata": {},
     "output_type": "execute_result"
    }
   ],
   "source": [
    "test = np.array([[1, 2, 3, 4], [5, 6, 7, 8]])\n",
    "testa =np.array([[0, 1, 0, 1], [1, 0, 1, 0]])\n",
    "test * testa"
   ]
  },
  {
   "cell_type": "markdown",
   "metadata": {},
   "source": [
    "## Normalizing data"
   ]
  },
  {
   "cell_type": "code",
   "execution_count": 11,
   "metadata": {},
   "outputs": [
    {
     "name": "stdout",
     "output_type": "stream",
     "text": [
      "(4778, 444) (4778, 1)\n",
      "7.657538267144322e-15\n"
     ]
    }
   ],
   "source": [
    "\n",
    "def normalizeRatings(Y: np.ndarray, R: np.ndarray): \n",
    "    Ymean = (np.sum(Y * R, axis=1)/(np.sum(R, axis=1)+1e-12)).reshape(-1, 1)\n",
    "    Ynorm = Y - R * Ymean\n",
    "    return Ynorm, Ymean\n",
    "\n",
    "# Normalize the Dataset\n",
    "Ynorm, Ymean =normalizeRatings(Y, R)\n",
    "print(Ynorm.shape, Ymean.shape)\n",
    "print(np.mean(Ynorm[0]))"
   ]
  },
  {
   "cell_type": "markdown",
   "metadata": {},
   "source": [
    "Let's prepare to train the model. Initialize the parameters and select Adam optimizer."
   ]
  },
  {
   "cell_type": "code",
   "execution_count": 12,
   "metadata": {},
   "outputs": [],
   "source": [
    "# Useful variables\n",
    "num_movies, num_users = Y.shape\n",
    "num_features = 100\n",
    "\n",
    "# Set initial Parameters (W, X), use tf.Variable to trach these variables\n",
    "W = tf.Variable(tf.random.normal((num_users, num_features), dtype=tf.float64))\n",
    "X = tf.Variable(tf.random.normal((num_movies, num_features), dtype=tf.float64))\n",
    "b = tf.Variable(tf.random.normal((1,          num_users), dtype=tf.float64))\n",
    "\n",
    "# Instantiate an optimizer.\n",
    "optimizer = keras.optimizers.Adam(learning_rate=1e-1)"
   ]
  },
  {
   "cell_type": "markdown",
   "metadata": {},
   "source": [
    "The operations involved in learning $w, b$ and $x$ simultaneously do not fall into the typical 'layers' offered in TensorFlow neural network package. Consequently, the flow used: Model, Compile(), Fit(), Predict(), are not directly applicable. Instead, we can use a custom training loop.\n",
    "\n",
    "Recall from earlier labs the steps of gradient descent.\n",
    "- repeat until convergence:\n",
    "    - compute forward pass\n",
    "    - compute the derivatives of the loss relative to parameters\n",
    "    - update the parameters using the learning rate and the computed derivatives \n",
    "    \n",
    " Within the `tf.GradientTape()` section, operations on Tensorflow Variables are tracked. When `tape.gradient()` is later called, it will return the gradient of the loss relative to the tracked variables. The gradients can then be applied to the parameters using an optimizer. \n",
    "This is a very brief introduction to a useful feature of TensorFlow and other machine learning frameworks. Further information can be found by investigating \"custom training loops\" within the framework of interest."
   ]
  },
  {
   "cell_type": "code",
   "execution_count": 13,
   "metadata": {},
   "outputs": [
    {
     "name": "stdout",
     "output_type": "stream",
     "text": [
      "(4778, 100) (444, 100) (1, 444) (4778, 444) (4778, 444)\n"
     ]
    }
   ],
   "source": [
    "print(X.shape, W.shape, b.shape, Ynorm.shape, R.shape)"
   ]
  },
  {
   "cell_type": "code",
   "execution_count": 14,
   "metadata": {},
   "outputs": [
    {
     "name": "stdout",
     "output_type": "stream",
     "text": [
      "Training loss at iteration 0: 2267241.4\n"
     ]
    },
    {
     "name": "stdout",
     "output_type": "stream",
     "text": [
      "Training loss at iteration 20: 131608.7\n",
      "Training loss at iteration 40: 49397.5\n",
      "Training loss at iteration 60: 23294.4\n",
      "Training loss at iteration 80: 12894.0\n",
      "Training loss at iteration 100: 8052.6\n",
      "Training loss at iteration 120: 5535.7\n",
      "Training loss at iteration 140: 4132.5\n",
      "Training loss at iteration 160: 3312.4\n",
      "Training loss at iteration 180: 2815.0\n"
     ]
    }
   ],
   "source": [
    "iterations = 200\n",
    "lambda_ = 1\n",
    "for iter in range(iterations):\n",
    "    # Use TensorFlow’s GradientTape\n",
    "    # to record the operations used to compute the cost \n",
    "    with tf.GradientTape() as tape:\n",
    "\n",
    "        # Compute the cost (forward pass included in cost)\n",
    "        cost_value = cofi_cost_func_v(X, W, b, Ynorm, R, lambda_)\n",
    "\n",
    "    # Use the gradient tape to automatically retrieve\n",
    "    # the gradients of the trainable variables with respect to the loss\n",
    "    grads = tape.gradient( cost_value, [X,W,b] )\n",
    "\n",
    "    # Run one step of gradient descent by updating\n",
    "    # the value of the variables to minimize the loss.\n",
    "    optimizer.apply_gradients( zip(grads, [X,W,b]) )\n",
    "\n",
    "    # Log periodically.\n",
    "    if iter % 20 == 0:\n",
    "        print(f\"Training loss at iteration {iter}: {cost_value:0.1f}\")"
   ]
  },
  {
   "cell_type": "markdown",
   "metadata": {},
   "source": [
    "## Recommendations\n",
    "Below, we compute the ratings for all the movies and users and display the movies that are recommended. These are based on the movies and ratings entered as `my_ratings[]` above. To predict the rating for user `i` for user `j`, you compute $w^{(j)} . x^{(i)} + b^{(j)} $. This can be computed for all ratings using matrix multiplication."
   ]
  },
  {
   "cell_type": "code",
   "execution_count": 15,
   "metadata": {},
   "outputs": [
    {
     "data": {
      "text/plain": [
       "TensorShape([1, 444])"
      ]
     },
     "execution_count": 15,
     "metadata": {},
     "output_type": "execute_result"
    }
   ],
   "source": [
    "b.shape"
   ]
  },
  {
   "cell_type": "code",
   "execution_count": 16,
   "metadata": {},
   "outputs": [
    {
     "name": "stdout",
     "output_type": "stream",
     "text": [
      "Predicting rating 4.70 for movie Lord of the Rings: The Two Towers, The (2002)\n",
      "Predicting rating 4.66 for movie Harry Potter and the Prisoner of Azkaban (2004)\n",
      "Predicting rating 4.63 for movie Colourful (Karafuru) (2010)\n",
      "Predicting rating 4.58 for movie Delirium (2014)\n",
      "Predicting rating 4.58 for movie One I Love, The (2014)\n",
      "Predicting rating 4.58 for movie Laggies (2014)\n",
      "Predicting rating 4.57 for movie Deathgasm (2015)\n",
      "Predicting rating 4.54 for movie Strictly Sexual (2008)\n",
      "Predicting rating 4.54 for movie Lost in Translation (2003)\n",
      "Predicting rating 4.54 for movie Kung Fu Panda: Secrets of the Masters (2011)\n",
      "Predicting rating 4.54 for movie Won't You Be My Neighbor? (2018)\n",
      "\n",
      "Original vs Predicted ratings: \n",
      "Original 5.0, Predicted 4.91 for Shrek (2001)\n",
      "Original 5.0, Predicted 4.89 for Harry Potter and the Sorcerer's Stone (a.k.a. Harry Potter and the Philosopher's Stone) (2001)\n",
      "Original 2.0, Predicted 2.22 for Amelie (Fabuleux destin d'Amélie Poulain, Le) (2001)\n",
      "Original 5.0, Predicted 4.83 for Harry Potter and the Chamber of Secrets (2002)\n",
      "Original 5.0, Predicted 4.86 for Pirates of the Caribbean: The Curse of the Black Pearl (2003)\n",
      "Original 5.0, Predicted 4.89 for Lord of the Rings: The Return of the King, The (2003)\n",
      "Original 3.0, Predicted 3.03 for Eternal Sunshine of the Spotless Mind (2004)\n",
      "Original 5.0, Predicted 4.83 for Incredibles, The (2004)\n",
      "Original 2.0, Predicted 2.12 for Persuasion (2007)\n",
      "Original 5.0, Predicted 4.87 for Toy Story 3 (2010)\n",
      "Original 3.0, Predicted 2.97 for Inception (2010)\n",
      "Original 1.0, Predicted 1.42 for Louis Theroux: Law & Disorder (2008)\n",
      "Original 1.0, Predicted 1.24 for Nothing to Declare (Rien à déclarer) (2010)\n"
     ]
    }
   ],
   "source": [
    "# Make a prediction using trained weights and biases\n",
    "p = np.matmul(X.numpy(), np.transpose(W.numpy())) + b.numpy()\n",
    "\n",
    "# restore the mean\n",
    "pm = p + Ymean\n",
    "my_predictions = pm[:, 0]\n",
    "\n",
    "# sort predictions\n",
    "ix = tf.argsort(my_predictions, direction='DESCENDING')\n",
    "\n",
    "for i in range(18): \n",
    "    j = ix[i]\n",
    "    if j not in my_rated: \n",
    "        print(f'Predicting rating {my_predictions[j]:0.2f} for movie {movieList[j]}')\n",
    "\n",
    "print('\\nOriginal vs Predicted ratings: ')\n",
    "\n",
    "for i in range(len(my_ratings)): \n",
    "    if my_ratings[i] > 0: \n",
    "        print(f'Original {my_ratings[i]}, Predicted {my_predictions[i]:0.2f} for {movieList[i]}')"
   ]
  },
  {
   "cell_type": "code",
   "execution_count": 17,
   "metadata": {},
   "outputs": [
    {
     "data": {
      "text/plain": [
       "TensorShape([4778])"
      ]
     },
     "execution_count": 17,
     "metadata": {},
     "output_type": "execute_result"
    }
   ],
   "source": [
    "ix.shape"
   ]
  },
  {
   "cell_type": "code",
   "execution_count": 18,
   "metadata": {},
   "outputs": [
    {
     "data": {
      "text/html": [
       "<div>\n",
       "<style scoped>\n",
       "    .dataframe tbody tr th:only-of-type {\n",
       "        vertical-align: middle;\n",
       "    }\n",
       "\n",
       "    .dataframe tbody tr th {\n",
       "        vertical-align: top;\n",
       "    }\n",
       "\n",
       "    .dataframe thead th {\n",
       "        text-align: right;\n",
       "    }\n",
       "</style>\n",
       "<table border=\"1\" class=\"dataframe\">\n",
       "  <thead>\n",
       "    <tr style=\"text-align: right;\">\n",
       "      <th></th>\n",
       "      <th>pred</th>\n",
       "      <th>mean rating</th>\n",
       "      <th>number of ratings</th>\n",
       "      <th>title</th>\n",
       "    </tr>\n",
       "  </thead>\n",
       "  <tbody>\n",
       "    <tr>\n",
       "      <th>1743</th>\n",
       "      <td>4.128719</td>\n",
       "      <td>4.252336</td>\n",
       "      <td>107</td>\n",
       "      <td>Departed, The (2006)</td>\n",
       "    </tr>\n",
       "    <tr>\n",
       "      <th>2112</th>\n",
       "      <td>4.510491</td>\n",
       "      <td>4.238255</td>\n",
       "      <td>149</td>\n",
       "      <td>Dark Knight, The (2008)</td>\n",
       "    </tr>\n",
       "    <tr>\n",
       "      <th>929</th>\n",
       "      <td>4.893142</td>\n",
       "      <td>4.118919</td>\n",
       "      <td>185</td>\n",
       "      <td>Lord of the Rings: The Return of the King, The...</td>\n",
       "    </tr>\n",
       "    <tr>\n",
       "      <th>2700</th>\n",
       "      <td>4.873835</td>\n",
       "      <td>4.109091</td>\n",
       "      <td>55</td>\n",
       "      <td>Toy Story 3 (2010)</td>\n",
       "    </tr>\n",
       "    <tr>\n",
       "      <th>848</th>\n",
       "      <td>4.543516</td>\n",
       "      <td>4.033784</td>\n",
       "      <td>74</td>\n",
       "      <td>Lost in Translation (2003)</td>\n",
       "    </tr>\n",
       "    <tr>\n",
       "      <th>2608</th>\n",
       "      <td>4.068852</td>\n",
       "      <td>4.022388</td>\n",
       "      <td>67</td>\n",
       "      <td>Shutter Island (2010)</td>\n",
       "    </tr>\n",
       "    <tr>\n",
       "      <th>653</th>\n",
       "      <td>4.703979</td>\n",
       "      <td>4.021277</td>\n",
       "      <td>188</td>\n",
       "      <td>Lord of the Rings: The Two Towers, The (2002)</td>\n",
       "    </tr>\n",
       "    <tr>\n",
       "      <th>2420</th>\n",
       "      <td>4.395332</td>\n",
       "      <td>4.004762</td>\n",
       "      <td>105</td>\n",
       "      <td>Up (2009)</td>\n",
       "    </tr>\n",
       "    <tr>\n",
       "      <th>3083</th>\n",
       "      <td>4.106094</td>\n",
       "      <td>3.993421</td>\n",
       "      <td>76</td>\n",
       "      <td>Dark Knight Rises, The (2012)</td>\n",
       "    </tr>\n",
       "    <tr>\n",
       "      <th>1051</th>\n",
       "      <td>4.655351</td>\n",
       "      <td>3.913978</td>\n",
       "      <td>93</td>\n",
       "      <td>Harry Potter and the Prisoner of Azkaban (2004)</td>\n",
       "    </tr>\n",
       "    <tr>\n",
       "      <th>246</th>\n",
       "      <td>4.905846</td>\n",
       "      <td>3.867647</td>\n",
       "      <td>170</td>\n",
       "      <td>Shrek (2001)</td>\n",
       "    </tr>\n",
       "    <tr>\n",
       "      <th>1150</th>\n",
       "      <td>4.827116</td>\n",
       "      <td>3.836000</td>\n",
       "      <td>125</td>\n",
       "      <td>Incredibles, The (2004)</td>\n",
       "    </tr>\n",
       "    <tr>\n",
       "      <th>1521</th>\n",
       "      <td>4.053158</td>\n",
       "      <td>3.816901</td>\n",
       "      <td>71</td>\n",
       "      <td>Harry Potter and the Goblet of Fire (2005)</td>\n",
       "    </tr>\n",
       "    <tr>\n",
       "      <th>1081</th>\n",
       "      <td>4.100062</td>\n",
       "      <td>3.803797</td>\n",
       "      <td>79</td>\n",
       "      <td>Spider-Man 2 (2004)</td>\n",
       "    </tr>\n",
       "    <tr>\n",
       "      <th>793</th>\n",
       "      <td>4.859684</td>\n",
       "      <td>3.778523</td>\n",
       "      <td>149</td>\n",
       "      <td>Pirates of the Caribbean: The Curse of the Bla...</td>\n",
       "    </tr>\n",
       "    <tr>\n",
       "      <th>366</th>\n",
       "      <td>4.893760</td>\n",
       "      <td>3.761682</td>\n",
       "      <td>107</td>\n",
       "      <td>Harry Potter and the Sorcerer's Stone (a.k.a. ...</td>\n",
       "    </tr>\n",
       "    <tr>\n",
       "      <th>622</th>\n",
       "      <td>4.830913</td>\n",
       "      <td>3.598039</td>\n",
       "      <td>102</td>\n",
       "      <td>Harry Potter and the Chamber of Secrets (2002)</td>\n",
       "    </tr>\n",
       "  </tbody>\n",
       "</table>\n",
       "</div>"
      ],
      "text/plain": [
       "          pred  mean rating  number of ratings  \\\n",
       "1743  4.128719     4.252336                107   \n",
       "2112  4.510491     4.238255                149   \n",
       "929   4.893142     4.118919                185   \n",
       "2700  4.873835     4.109091                 55   \n",
       "848   4.543516     4.033784                 74   \n",
       "2608  4.068852     4.022388                 67   \n",
       "653   4.703979     4.021277                188   \n",
       "2420  4.395332     4.004762                105   \n",
       "3083  4.106094     3.993421                 76   \n",
       "1051  4.655351     3.913978                 93   \n",
       "246   4.905846     3.867647                170   \n",
       "1150  4.827116     3.836000                125   \n",
       "1521  4.053158     3.816901                 71   \n",
       "1081  4.100062     3.803797                 79   \n",
       "793   4.859684     3.778523                149   \n",
       "366   4.893760     3.761682                107   \n",
       "622   4.830913     3.598039                102   \n",
       "\n",
       "                                                  title  \n",
       "1743                               Departed, The (2006)  \n",
       "2112                            Dark Knight, The (2008)  \n",
       "929   Lord of the Rings: The Return of the King, The...  \n",
       "2700                                 Toy Story 3 (2010)  \n",
       "848                          Lost in Translation (2003)  \n",
       "2608                              Shutter Island (2010)  \n",
       "653       Lord of the Rings: The Two Towers, The (2002)  \n",
       "2420                                          Up (2009)  \n",
       "3083                      Dark Knight Rises, The (2012)  \n",
       "1051    Harry Potter and the Prisoner of Azkaban (2004)  \n",
       "246                                        Shrek (2001)  \n",
       "1150                            Incredibles, The (2004)  \n",
       "1521         Harry Potter and the Goblet of Fire (2005)  \n",
       "1081                                Spider-Man 2 (2004)  \n",
       "793   Pirates of the Caribbean: The Curse of the Bla...  \n",
       "366   Harry Potter and the Sorcerer's Stone (a.k.a. ...  \n",
       "622      Harry Potter and the Chamber of Secrets (2002)  "
      ]
     },
     "execution_count": 18,
     "metadata": {},
     "output_type": "execute_result"
    }
   ],
   "source": [
    "filter = moveList_df['number of ratings'] > 20\n",
    "moveList_df['pred'] = my_predictions\n",
    "moveList_df = moveList_df.reindex(columns=['pred', 'mean rating', 'number of ratings', 'title'])\n",
    "\n",
    "moveList_df.loc[ix[:300]].loc[filter].sort_values('mean rating', ascending=False)"
   ]
  },
  {
   "cell_type": "code",
   "execution_count": null,
   "metadata": {},
   "outputs": [],
   "source": []
  }
 ],
 "metadata": {
  "kernelspec": {
   "display_name": "Python 3",
   "language": "python",
   "name": "python3"
  },
  "language_info": {
   "codemirror_mode": {
    "name": "ipython",
    "version": 3
   },
   "file_extension": ".py",
   "mimetype": "text/x-python",
   "name": "python",
   "nbconvert_exporter": "python",
   "pygments_lexer": "ipython3",
   "version": "3.10.13"
  }
 },
 "nbformat": 4,
 "nbformat_minor": 2
}
